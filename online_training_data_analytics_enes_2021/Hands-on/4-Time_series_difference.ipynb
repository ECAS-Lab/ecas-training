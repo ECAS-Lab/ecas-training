{
 "cells": [
  {
   "cell_type": "markdown",
   "metadata": {},
   "source": [
    "# Compare time series from a datacube\n",
    "\n",
    "Import PyOphidia and connect to server instance"
   ]
  },
  {
   "cell_type": "code",
   "execution_count": null,
   "metadata": {},
   "outputs": [],
   "source": [
    "from PyOphidia import cube, client\n",
    "cube.Cube.setclient(read_env=True)"
   ]
  },
  {
   "cell_type": "markdown",
   "metadata": {},
   "source": [
    "Import data, compute difference between a time series from 2nd year and one from 1st year, and get output"
   ]
  },
  {
   "cell_type": "code",
   "execution_count": null,
   "metadata": {
    "scrolled": true
   },
   "outputs": [],
   "source": [
    "mycube = cube.Cube.importnc(src_path='data/ecas_training/tasmax_day_CMCC-CESM_rcp85_r1i1p1_20960101-21001231.nc',measure='tasmax',imp_dim='...',ncores=5)\n",
    "firstYear = mycube.subset(subset_dims=\"...\", subset_type=\"coord\", subset_filter=\"...\",ncores=5)\n",
    "secondYear = mycube.subset(subset_dims=\"...\", subset_type=\"coord\", subset_filter=\"...\",ncores=5)\n",
    "\n",
    "firstYear_avg = firstYear.reduce2(\n",
    "    operation='...',\n",
    "    dim='...',\n",
    "    concept_level='...',\n",
    ")\n",
    "secondYear_avg = secondYear.reduce2(\n",
    "    operation='...',\n",
    "    dim='...',\n",
    "    concept_level='...',\n",
    ")\n",
    "diff = secondYear_avg.intercube(cube2=firstYear_avg.pid)\n",
    "data = diff.export_array()"
   ]
  },
  {
   "cell_type": "markdown",
   "metadata": {},
   "source": [
    "Plot time series difference"
   ]
  },
  {
   "cell_type": "code",
   "execution_count": null,
   "metadata": {},
   "outputs": [],
   "source": [
    "%matplotlib inline\n",
    "\n",
    "import matplotlib.pyplot as plt\n",
    "y = data['...'][0]['values'][0][:]\n",
    "x = data['...'][2]['values'][:]\n",
    "plt.figure(figsize=(11, 5), dpi=100)\n",
    "plt.grid(zorder=0)\n",
    "plt.bar(x, y, width=10, zorder=2)\n",
    "\n",
    "plt.ylabel(data['measure'][0]['name'] + \" (degK)\")\n",
    "plt.title('Maximum Near-Surface Air Temperature - difference 2096-2097')\n",
    "plt.xticks(x, ['Jan', 'Feb', 'Mar', 'Apr', 'May', 'Jun', 'Jul', 'Aug', 'Sep', 'Oct', 'Nov', 'Dec'], rotation='vertical')\n",
    "plt.show()"
   ]
  },
  {
   "cell_type": "markdown",
   "metadata": {},
   "source": [
    "Clear your workspace before running other notebooks"
   ]
  },
  {
   "cell_type": "code",
   "execution_count": null,
   "metadata": {},
   "outputs": [],
   "source": [
    "cube.Cube.deletecontainer(container='...',force='yes')"
   ]
  }
 ],
 "metadata": {
  "kernelspec": {
   "display_name": "Python 3",
   "language": "python",
   "name": "python3"
  },
  "language_info": {
   "codemirror_mode": {
    "name": "ipython",
    "version": 3
   },
   "file_extension": ".py",
   "mimetype": "text/x-python",
   "name": "python",
   "nbconvert_exporter": "python",
   "pygments_lexer": "ipython3",
   "version": "3.6.8"
  }
 },
 "nbformat": 4,
 "nbformat_minor": 2
}
