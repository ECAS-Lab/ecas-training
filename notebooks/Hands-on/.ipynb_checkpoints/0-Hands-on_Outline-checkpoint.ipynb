{
 "cells": [
  {
   "cell_type": "markdown",
   "metadata": {
    "collapsed": true
   },
   "source": [
    "# ESiWACE2 Summer School on Effective HPC for Climate and Weather\n",
    "\n",
    "### Wednesday, 26 August, 2020\n",
    "\n",
    "\n",
    "#### High-Performance Data Analytics and Visualisation - Virtual Lab - Hands-on\n",
    "\n",
    "During this session you will be able to apply some of the notions about ECAS/Ophidia provided during the previous session on some real world use cases. \n",
    "\n",
    "1. First, start from [**ECASLab-Training.ipynb**](1-ECASLab-Training.ipynb), which provides step-by-step instructions on how to use the Ophidia operators as well as the PyOphidia library to implement a climate indicator. \n",
    "\n",
    "2. In the second notebook [**Linear_regression_ECAS.ipynb**](2-Linear_regression_ECAS.ipynb) you can find a more challenging exercise, where you can implement a linear regression experiment to extract the trend from the data.\n",
    "\n",
    "\n",
    "### Useful links\n",
    "\n",
    "1. [EOSC-Hub project website](https://www.eosc-hub.eu)\n",
    "2. [ECASLab @ CMCC](https://ecaslab.cmcc.it/) \n",
    "3. [ECAS-Lab on Github](https://github.com/ECAS-Lab)\n",
    "4. [Ophidia website](http://ophidia.cmcc.it/)\n",
    "5. [Ophidia on Github](https://github.com/OphidiaBigData)\n",
    "6. [Ophidia Docs](http://ophidia.cmcc.it/documentation/)"
   ]
  }
 ],
 "metadata": {
  "kernelspec": {
   "display_name": "Python 3",
   "language": "python",
   "name": "python3"
  },
  "language_info": {
   "codemirror_mode": {
    "name": "ipython",
    "version": 3
   },
   "file_extension": ".py",
   "mimetype": "text/x-python",
   "name": "python",
   "nbconvert_exporter": "python",
   "pygments_lexer": "ipython3",
   "version": "3.6.8"
  }
 },
 "nbformat": 4,
 "nbformat_minor": 2
}
