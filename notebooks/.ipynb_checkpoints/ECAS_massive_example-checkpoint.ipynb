{
 "cells": [
  {
   "cell_type": "markdown",
   "metadata": {},
   "source": [
    "# Compute a temporal aggregation using massive operators\n",
    "\n",
    "Import PyOphidia and connect to server instance"
   ]
  },
  {
   "cell_type": "code",
   "execution_count": 38,
   "metadata": {},
   "outputs": [
    {
     "name": "stdout",
     "output_type": "stream",
     "text": [
      "Current cdd is /\n",
      "Current session is http://127.0.0.1/ophidia/sessions/38638951269792514851597139294778147/experiment\n",
      "Current cwd is /\n",
      "The last produced cube is http://127.0.0.1/ophidia/1/88\n"
     ]
    }
   ],
   "source": [
    "from PyOphidia import client, cube\n",
    "ophclient = client.Client(read_env=True)\n",
    "cube.Cube.client = ophclient"
   ]
  },
  {
   "cell_type": "markdown",
   "metadata": {},
   "source": [
    "Import data\n",
    "\n",
    "**Note: Using the asterisk (\\*) in the *src_path* parameter will load all the files under the specified path.**"
   ]
  },
  {
   "cell_type": "code",
   "execution_count": 42,
   "metadata": {},
   "outputs": [],
   "source": [
    "res=ophclient.submit(\"oph_importnc exp_dim=lat|lon;imp_dim=time;ncores=1;measure=tasmax;src_path=[path=/data/yearly_files/*.nc];description=Import cube\")"
   ]
  },
  {
   "cell_type": "markdown",
   "metadata": {},
   "source": [
    "Subset each imported datacube over time"
   ]
  },
  {
   "cell_type": "code",
   "execution_count": null,
   "metadata": {},
   "outputs": [],
   "source": [
    "res=ophclient.submit(\"oph_subset subset_dims=time;subset_filter=JJA;subset_type=coord;ncores=1;cube=[level=0];description=Subset Cube\")"
   ]
  },
  {
   "cell_type": "markdown",
   "metadata": {},
   "source": [
    "Compute average over time for each year"
   ]
  },
  {
   "cell_type": "code",
   "execution_count": null,
   "metadata": {},
   "outputs": [],
   "source": [
    "res=ophclient.submit(\"oph_reduce2 operation=avg;dim=time;cube=[level=1];description=Reduced cube\")"
   ]
  },
  {
   "cell_type": "markdown",
   "metadata": {},
   "source": [
    "List all the produced datacubes. \n",
    "\n",
    "As we can see, there are 15 datacubes in total: 5 (as the imported years) for each of the previously performed operators."
   ]
  },
  {
   "cell_type": "code",
   "execution_count": null,
   "metadata": {},
   "outputs": [],
   "source": [
    "res=ophclient.submit(\"oph_list level=2\",display=True)"
   ]
  },
  {
   "cell_type": "markdown",
   "metadata": {},
   "source": [
    "Extract values and plot output data on map for one of the averaged years.\n",
    "\n",
    "In the following command, replace the pid with one of the **DATACUBE PID** values related to a **Reduced cube** shown in the previous *oph_list* output."
   ]
  },
  {
   "cell_type": "code",
   "execution_count": null,
   "metadata": {},
   "outputs": [],
   "source": [
    "mycube = cube.Cube(pid='http://127.0.0.1/ophidia/../..')"
   ]
  },
  {
   "cell_type": "code",
   "execution_count": null,
   "metadata": {},
   "outputs": [],
   "source": [
    "%matplotlib inline\n",
    "import cartopy.crs as ccrs\n",
    "import matplotlib.pyplot as plt\n",
    "from cartopy.mpl.geoaxes import GeoAxes\n",
    "from cartopy.util import add_cyclic_point\n",
    "import numpy as np\n",
    "import warnings\n",
    "warnings.filterwarnings(\"ignore\")\n",
    "\n",
    "fig = plt.figure(figsize=(15, 6), dpi=100)\n",
    "\n",
    "#Add Geo axes to the figure with the specified projection (PlateCarree)\n",
    "projection = ccrs.PlateCarree()\n",
    "ax = plt.axes(projection=projection)\n",
    "\n",
    "#Draw coastline and gridlines\n",
    "ax.coastlines()\n",
    "\n",
    "gl = ax.gridlines(crs=projection, draw_labels=True, linewidth=1, color='black', alpha=0.9, linestyle=':')\n",
    "gl.xlabels_top = False\n",
    "gl.ylabels_right = False\n",
    "\n",
    "data = mycube.export_array()\n",
    "lat = data['dimension'][0]['values'][ : ]\n",
    "lon = data['dimension'][1]['values'][ : ]\n",
    "var = data['measure'][0]['values'][ : ]\n",
    "var = np.reshape(var, (len(lat), len(lon)))\n",
    "\n",
    "#Wraparound points in longitude\n",
    "var_cyclic, lon_cyclic = add_cyclic_point(var, coord=np.asarray(lon))\n",
    "x, y = np.meshgrid(lon_cyclic,lat)\n",
    "\n",
    "#Define color levels for color bar\n",
    "levStep = (np.nanmax(var)-np.nanmin(var))/20\n",
    "clevs = np.arange(np.nanmin(var),np.nanmax(var)+levStep,levStep)\n",
    "\n",
    "#Set filled contour plot\n",
    "cnplot = ax.contourf(x, y, var_cyclic, clevs, transform=projection,cmap=plt.cm.jet)\n",
    "plt.colorbar(cnplot,ax=ax)\n",
    "\n",
    "ax.set_aspect('auto', adjustable=None)\n",
    "\n",
    "plt.title('Sea Surface Temperature (deg K)')\n",
    "plt.show()"
   ]
  },
  {
   "cell_type": "markdown",
   "metadata": {},
   "source": [
    "Clear your workspace before running other notebooks"
   ]
  },
  {
   "cell_type": "code",
   "execution_count": null,
   "metadata": {},
   "outputs": [],
   "source": [
    "cube.Cube.deletecontainer(container='tasmax_day_CMCC-CESM_rcp85_r1i1p1_2096.nc',force='yes')\n",
    "cube.Cube.deletecontainer(container='tasmax_day_CMCC-CESM_rcp85_r1i1p1_2097.nc',force='yes')\n",
    "cube.Cube.deletecontainer(container='tasmax_day_CMCC-CESM_rcp85_r1i1p1_2098.nc',force='yes')\n",
    "cube.Cube.deletecontainer(container='tasmax_day_CMCC-CESM_rcp85_r1i1p1_2099.nc',force='yes')\n",
    "cube.Cube.deletecontainer(container='tasmax_day_CMCC-CESM_rcp85_r1i1p1_2100.nc',force='yes')"
   ]
  },
  {
   "cell_type": "code",
   "execution_count": null,
   "metadata": {},
   "outputs": [],
   "source": []
  }
 ],
 "metadata": {
  "kernelspec": {
   "display_name": "Python 3",
   "language": "python",
   "name": "python3"
  },
  "language_info": {
   "codemirror_mode": {
    "name": "ipython",
    "version": 3
   },
   "file_extension": ".py",
   "mimetype": "text/x-python",
   "name": "python",
   "nbconvert_exporter": "python",
   "pygments_lexer": "ipython3",
   "version": "3.6.8"
  }
 },
 "nbformat": 4,
 "nbformat_minor": 4
}
