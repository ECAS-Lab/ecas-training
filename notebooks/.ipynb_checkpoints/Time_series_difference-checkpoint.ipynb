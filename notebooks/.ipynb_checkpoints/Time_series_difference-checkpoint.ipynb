{
 "cells": [
  {
   "cell_type": "markdown",
   "metadata": {},
   "source": [
    "# Compare time series from a datacube\n",
    "\n",
    "Import PyOphidia and connect to server instance"
   ]
  },
  {
   "cell_type": "code",
   "execution_count": 1,
   "metadata": {},
   "outputs": [
    {
     "name": "stdout",
     "output_type": "stream",
     "text": [
      "Current cdd is /\n",
      "Current session is http://127.0.0.1/ophidia/sessions/147926727542202001111596029531331256/experiment\n",
      "Current cwd is /\n",
      "The last produced cube is http://127.0.0.1/ophidia/30/122\n"
     ]
    }
   ],
   "source": [
    "from PyOphidia import cube, client\n",
    "cube.Cube.setclient(read_env=True)"
   ]
  },
  {
   "cell_type": "markdown",
   "metadata": {},
   "source": [
    "Import data, compute difference between a time series from 2nd year and one from 1st year, and get output"
   ]
  },
  {
   "cell_type": "code",
   "execution_count": 3,
   "metadata": {
    "scrolled": true
   },
   "outputs": [
    {
     "name": "stdout",
     "output_type": "stream",
     "text": [
      "('/usr/local/lib/python3.6/site-packages/PyOphidia/client.py', 282) Something went wrong in submitting the request: Task initilization failed: Empty datacube\n",
      "('/usr/local/lib/python3.6/site-packages/PyOphidia/cube.py', 4787) Something went wrong: \n"
     ]
    },
    {
     "ename": "RuntimeError",
     "evalue": "",
     "output_type": "error",
     "traceback": [
      "\u001b[0;31m---------------------------------------------------------------------------\u001b[0m",
      "\u001b[0;31mRuntimeError\u001b[0m                              Traceback (most recent call last)",
      "\u001b[0;32m/usr/local/lib/python3.6/site-packages/PyOphidia/cube.py\u001b[0m in \u001b[0;36msubset2\u001b[0;34m(self, ncores, exec_mode, schedule, subset_dims, subset_filter, time_filter, offset, grid, container, description, check_grid, display)\u001b[0m\n\u001b[1;32m   4780\u001b[0m             \u001b[0;32mif\u001b[0m \u001b[0mCube\u001b[0m\u001b[0;34m.\u001b[0m\u001b[0mclient\u001b[0m\u001b[0;34m.\u001b[0m\u001b[0msubmit\u001b[0m\u001b[0;34m(\u001b[0m\u001b[0mquery\u001b[0m\u001b[0;34m,\u001b[0m \u001b[0mdisplay\u001b[0m\u001b[0;34m)\u001b[0m \u001b[0;32mis\u001b[0m \u001b[0;32mNone\u001b[0m\u001b[0;34m:\u001b[0m\u001b[0;34m\u001b[0m\u001b[0;34m\u001b[0m\u001b[0m\n\u001b[0;32m-> 4781\u001b[0;31m                 \u001b[0;32mraise\u001b[0m \u001b[0mRuntimeError\u001b[0m\u001b[0;34m(\u001b[0m\u001b[0;34m)\u001b[0m\u001b[0;34m\u001b[0m\u001b[0;34m\u001b[0m\u001b[0m\n\u001b[0m\u001b[1;32m   4782\u001b[0m \u001b[0;34m\u001b[0m\u001b[0m\n",
      "\u001b[0;31mRuntimeError\u001b[0m: ",
      "\nDuring handling of the above exception, another exception occurred:\n",
      "\u001b[0;31mRuntimeError\u001b[0m                              Traceback (most recent call last)",
      "\u001b[0;32m<ipython-input-3-3057bca43ff5>\u001b[0m in \u001b[0;36m<module>\u001b[0;34m\u001b[0m\n\u001b[1;32m      1\u001b[0m \u001b[0mmycube\u001b[0m \u001b[0;34m=\u001b[0m \u001b[0mcube\u001b[0m\u001b[0;34m.\u001b[0m\u001b[0mCube\u001b[0m\u001b[0;34m.\u001b[0m\u001b[0mimportnc\u001b[0m\u001b[0;34m(\u001b[0m\u001b[0msrc_path\u001b[0m\u001b[0;34m=\u001b[0m\u001b[0;34m'/data/tasmax_day_CMCC-CESM_rcp85_r1i1p1_20960101-21001231.nc'\u001b[0m\u001b[0;34m,\u001b[0m\u001b[0mmeasure\u001b[0m\u001b[0;34m=\u001b[0m\u001b[0;34m'tasmax'\u001b[0m\u001b[0;34m,\u001b[0m\u001b[0mimp_dim\u001b[0m\u001b[0;34m=\u001b[0m\u001b[0;34m'time'\u001b[0m\u001b[0;34m,\u001b[0m\u001b[0mncores\u001b[0m\u001b[0;34m=\u001b[0m\u001b[0;36m4\u001b[0m\u001b[0;34m)\u001b[0m\u001b[0;34m\u001b[0m\u001b[0;34m\u001b[0m\u001b[0m\n\u001b[0;32m----> 2\u001b[0;31m \u001b[0mfirstYear\u001b[0m \u001b[0;34m=\u001b[0m \u001b[0mmycube\u001b[0m\u001b[0;34m.\u001b[0m\u001b[0msubset2\u001b[0m\u001b[0;34m(\u001b[0m\u001b[0msubset_dims\u001b[0m\u001b[0;34m=\u001b[0m\u001b[0;34m\"lat|lon|time\"\u001b[0m\u001b[0;34m,\u001b[0m\u001b[0msubset_filter\u001b[0m\u001b[0;34m=\u001b[0m\u001b[0;34m\"0:1|0:1|0:365\"\u001b[0m\u001b[0;34m,\u001b[0m\u001b[0mncores\u001b[0m\u001b[0;34m=\u001b[0m\u001b[0;36m4\u001b[0m\u001b[0;34m)\u001b[0m\u001b[0;34m\u001b[0m\u001b[0;34m\u001b[0m\u001b[0m\n\u001b[0m\u001b[1;32m      3\u001b[0m \u001b[0msecondYear\u001b[0m \u001b[0;34m=\u001b[0m \u001b[0mmycube\u001b[0m\u001b[0;34m.\u001b[0m\u001b[0msubset2\u001b[0m\u001b[0;34m(\u001b[0m\u001b[0msubset_dims\u001b[0m\u001b[0;34m=\u001b[0m\u001b[0;34m\"lat|lon|time\"\u001b[0m\u001b[0;34m,\u001b[0m\u001b[0msubset_filter\u001b[0m\u001b[0;34m=\u001b[0m\u001b[0;34m\"0:1|0:1|366:730\"\u001b[0m\u001b[0;34m,\u001b[0m\u001b[0mncores\u001b[0m\u001b[0;34m=\u001b[0m\u001b[0;36m4\u001b[0m\u001b[0;34m)\u001b[0m\u001b[0;34m\u001b[0m\u001b[0;34m\u001b[0m\u001b[0m\n\u001b[1;32m      4\u001b[0m \u001b[0mdiff\u001b[0m \u001b[0;34m=\u001b[0m \u001b[0msecondYear\u001b[0m\u001b[0;34m.\u001b[0m\u001b[0mintercube\u001b[0m\u001b[0;34m(\u001b[0m\u001b[0mcube2\u001b[0m\u001b[0;34m=\u001b[0m\u001b[0mfirstYear\u001b[0m\u001b[0;34m.\u001b[0m\u001b[0mpid\u001b[0m\u001b[0;34m)\u001b[0m\u001b[0;34m\u001b[0m\u001b[0;34m\u001b[0m\u001b[0m\n\u001b[1;32m      5\u001b[0m \u001b[0mdata\u001b[0m \u001b[0;34m=\u001b[0m \u001b[0mdiff\u001b[0m\u001b[0;34m.\u001b[0m\u001b[0mexport_array\u001b[0m\u001b[0;34m(\u001b[0m\u001b[0;34m)\u001b[0m\u001b[0;34m\u001b[0m\u001b[0;34m\u001b[0m\u001b[0m\n",
      "\u001b[0;32m/usr/local/lib/python3.6/site-packages/PyOphidia/cube.py\u001b[0m in \u001b[0;36msubset2\u001b[0;34m(self, ncores, exec_mode, schedule, subset_dims, subset_filter, time_filter, offset, grid, container, description, check_grid, display)\u001b[0m\n\u001b[1;32m   4786\u001b[0m         \u001b[0;32mexcept\u001b[0m \u001b[0mException\u001b[0m \u001b[0;32mas\u001b[0m \u001b[0me\u001b[0m\u001b[0;34m:\u001b[0m\u001b[0;34m\u001b[0m\u001b[0;34m\u001b[0m\u001b[0m\n\u001b[1;32m   4787\u001b[0m             \u001b[0mprint\u001b[0m\u001b[0;34m(\u001b[0m\u001b[0mget_linenumber\u001b[0m\u001b[0;34m(\u001b[0m\u001b[0;34m)\u001b[0m\u001b[0;34m,\u001b[0m \u001b[0;34m\"Something went wrong:\"\u001b[0m\u001b[0;34m,\u001b[0m \u001b[0me\u001b[0m\u001b[0;34m)\u001b[0m\u001b[0;34m\u001b[0m\u001b[0;34m\u001b[0m\u001b[0m\n\u001b[0;32m-> 4788\u001b[0;31m             \u001b[0;32mraise\u001b[0m \u001b[0mRuntimeError\u001b[0m\u001b[0;34m(\u001b[0m\u001b[0;34m)\u001b[0m\u001b[0;34m\u001b[0m\u001b[0;34m\u001b[0m\u001b[0m\n\u001b[0m\u001b[1;32m   4789\u001b[0m         \u001b[0;32melse\u001b[0m\u001b[0;34m:\u001b[0m\u001b[0;34m\u001b[0m\u001b[0;34m\u001b[0m\u001b[0m\n\u001b[1;32m   4790\u001b[0m             \u001b[0;32mreturn\u001b[0m \u001b[0mnewcube\u001b[0m\u001b[0;34m\u001b[0m\u001b[0;34m\u001b[0m\u001b[0m\n",
      "\u001b[0;31mRuntimeError\u001b[0m: "
     ]
    }
   ],
   "source": [
    "mycube = cube.Cube.importnc(src_path='/data/tasmax_day_CMCC-CESM_rcp85_r1i1p1_20960101-21001231.nc',measure='tasmax',imp_dim='time',ncores=4)\n",
    "firstYear = mycube.subset2(subset_dims=\"lat|lon|time\",subset_filter=\"0:1|0:1|0:365\",ncores=4)\n",
    "secondYear = mycube.subset2(subset_dims=\"lat|lon|time\",subset_filter=\"0:1|0:1|366:730\",ncores=4)\n",
    "diff = secondYear.intercube(cube2=firstYear.pid)\n",
    "data = diff.export_array()"
   ]
  },
  {
   "cell_type": "markdown",
   "metadata": {},
   "source": [
    "Plot time series difference"
   ]
  },
  {
   "cell_type": "code",
   "execution_count": null,
   "metadata": {},
   "outputs": [],
   "source": [
    "%matplotlib inline\n",
    "\n",
    "import matplotlib.pyplot as plt\n",
    "y = data['measure'][0]['values'][0][:]\n",
    "x = data['dimension'][2]['values'][:]\n",
    "plt.figure(figsize=(11, 5), dpi=100)\n",
    "plt.bar(x, y)\n",
    "\n",
    "plt.ylabel(data['measure'][0]['name'] + \" (degK)\")\n",
    "plt.title('Sea Surface Temperature - difference 2002-2001  (point 0.5, 1)')\n",
    "plt.xticks(x, ['Jan', 'Feb', 'Mar', 'Apr', 'May', 'Jun', 'Jul', 'Aug', 'Sep', 'Oct', 'Nov', 'Dec'], rotation='vertical')\n",
    "plt.show()"
   ]
  },
  {
   "cell_type": "markdown",
   "metadata": {},
   "source": [
    "Clear your workspace before running other notebooks"
   ]
  },
  {
   "cell_type": "code",
   "execution_count": null,
   "metadata": {},
   "outputs": [],
   "source": [
    "cube.Cube.deletecontainer(container='tasmax_day_CMCC-CESM_rcp85_r1i1p1_20960101-21001231.nc',force='yes')"
   ]
  }
 ],
 "metadata": {
  "kernelspec": {
   "display_name": "Python 3",
   "language": "python",
   "name": "python3"
  },
  "language_info": {
   "codemirror_mode": {
    "name": "ipython",
    "version": 3
   },
   "file_extension": ".py",
   "mimetype": "text/x-python",
   "name": "python",
   "nbconvert_exporter": "python",
   "pygments_lexer": "ipython3",
   "version": "3.6.8"
  }
 },
 "nbformat": 4,
 "nbformat_minor": 2
}
