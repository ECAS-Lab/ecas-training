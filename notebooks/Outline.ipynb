{
 "cells": [
  {
   "cell_type": "markdown",
   "metadata": {},
   "source": [
    "# ESiWACE2 Summer School on Effective HPC for Climate and Weather\n",
    "\n",
    "### Wednesday, 26 August, 2020\n",
    "\n",
    "\n",
    "## High-Performance Data Analytics and Visualisation - Virtual Lab Session outline\n",
    "\n",
    "This notebook provides the summary for the Virtual Lab activities. \n",
    "\n",
    "- The *Hands-on notebooks* provide some introductory exercises to experiment with the Ophidia/ECAS features.   \n",
    "- Demo notebooks represent some (bonus) notebooks that can be executed if you are interested in seeing additional ways of exploiting Ophidia.\n",
    "\n",
    "### Hands-on Notebooks\n",
    "\n",
    "In this folder you can find the following exercises:\n",
    "\n",
    "1. First, start from [**ECASLab-Training.ipynb**](./Hands-on/1-ECASLab-Training.ipynb), which provides step-by-step instructions on how to use the Ophidia operators as well as the PyOphidia library to implement a climate indicator. \n",
    "\n",
    "2. In the second notebook [**Linear_regression_ECAS.ipynb**](./Hands-on/2-Linear_regression_ECAS.ipynb) you can find a more challenging exercise, where you can implement a linear regression experiment to extract the trend from the data.\n",
    "\n",
    "\n",
    "### Demo Notebooks\n",
    "\n",
    "This folder contains a set of ready-to-use noteboks showing different examples of how the Ophidia/ECAS features can be used.\n",
    "\n",
    "- [**Aggregated map**](./Demo/Aggregated_map.ipynb) shows how to create a map from an Ophidia datacube;\n",
    "- [**Daily Temperature Range**](./Demo/Daily_Temperature_Range.ipynb) shows how to compute the Daily Temperature Range climate indicator.\n",
    "- [**ECAS_Basics**](./Demo/ECAS_Basics.ipynb) provides an overview of how to run some of the basic and most important functionalities;\n",
    "- [**ECAS massive operators**](./Demo/ECAS_massive_example.ipynb) shows an example of how to run massive operators on multiple datacubes \n",
    "- [**Frost Days**](./Demo/Frost_Days.ipynb) shows how to compute the Frost Days indicator;\n",
    "- [**Icing Days**](./Demo/Icing_Days.ipynb) shows how to compute the Icing Days indicator;\n",
    "- [**Linear_regression_ECAS**](./Demo/Linear_regression_ECAS.ipynb) provides the user with an exercise regarding linear regression to be performed with the ECAS features and resources;\n",
    "- [**Subsetted map**](./Demo/Linear_regression_ECAS.ipynb) shows how to create a map from a subset of a datacube.\n",
    "- [**Summer Days**](./Demo/Summer_Days.ipynb) shows how to compute the Summer Days indicator;\n",
    "- [**Time series difference**](./Demo/Time_series_difference.ipynb) shows how to perform the difference among two time series;\n",
    "- [**Time series extraction**](./Demo/Time_series_extraction.ipynb) shows how to plot on a map a time series from an Ophidia datacube; \n",
    "- [**Tropical Nights**](./Demo/Tropical_Nights.ipynb) shows how to compute the Tropical Nights indicator;\n",
    "\n",
    "\n",
    "### Useful links\n",
    "\n",
    "1. [EOSC-Hub project website](https://www.eosc-hub.eu)\n",
    "2. [ECASLab @ CMCC](https://ecaslab.cmcc.it/) \n",
    "3. [ECAS-Lab on Github](https://github.com/ECAS-Lab)\n",
    "4. [Ophidia website](http://ophidia.cmcc.it/)\n",
    "5. [Ophidia on Github](https://github.com/OphidiaBigData)\n",
    "6. [Ophidia Docs](http://ophidia.cmcc.it/documentation/)\n",
    "\n",
    "\n"
   ]
  }
 ],
 "metadata": {
  "kernelspec": {
   "display_name": "Python 3",
   "language": "python",
   "name": "python3"
  },
  "language_info": {
   "codemirror_mode": {
    "name": "ipython",
    "version": 3
   },
   "file_extension": ".py",
   "mimetype": "text/x-python",
   "name": "python",
   "nbconvert_exporter": "python",
   "pygments_lexer": "ipython3",
   "version": "3.7.8"
  }
 },
 "nbformat": 4,
 "nbformat_minor": 4
}
